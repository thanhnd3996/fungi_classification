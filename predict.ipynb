{
 "cells": [
  {
   "cell_type": "code",
   "execution_count": null,
   "metadata": {
    "collapsed": true
   },
   "outputs": [],
   "source": [
    "from keras.models import model_from_json\n",
    "from keras.preprocessing.image import ImageDataGenerator\n",
    "from keras.optimizers import SGD\n",
    "import numpy as np\n",
    "from pprint import pprint\n"
   ]
  },
  {
   "cell_type": "code",
   "execution_count": null,
   "metadata": {},
   "outputs": [],
   "source": [
    "test_dir = \"./dataset/test_images\"\n",
    "inception_json = \"./model/inception_model.json\"\n",
    "checkpoint_path_2 = './model/checkpoint_2.h5'\n"
   ]
  },
  {
   "cell_type": "code",
   "execution_count": null,
   "metadata": {},
   "outputs": [],
   "source": [
    "def main():\n",
    "    test_data_gen = ImageDataGenerator(rescale=1. / 255)\n",
    "    test_generator = test_data_gen.flow_from_directory(\n",
    "        test_dir,\n",
    "        target_size=(299, 299),\n",
    "        batch_size=1,\n",
    "        class_mode=\"categorical\"\n",
    "    )\n",
    "    file_names = test_generator.filenames\n",
    "    nb_samples = len(file_names)\n",
    "    print(\"nb_samples %.2f%%\" % nb_samples)\n",
    "\n",
    "    json_file = open(inception_json, 'r')\n",
    "    loaded_model_json = json_file.read()\n",
    "    json_file.close()\n",
    "    loaded_model = model_from_json(loaded_model_json)\n",
    "    loaded_model.load_weights(checkpoint_path_2)\n",
    "\n",
    "    # evaluate loaded model on test data\n",
    "    sgd = SGD(lr=0.0001, momentum=0.9, nesterov=True)\n",
    "    loaded_model.compile(optimizer=sgd, loss='categorical_crossentropy', metrics=['accuracy'])\n",
    "    score = loaded_model.predict_generator(test_generator, steps=nb_samples)\n",
    "\n",
    "    for i in range(0, nb_samples):\n",
    "        idx = np.argmax(score[i])\n",
    "        pprint(\"prediction idx, value %.2f%% %.2f%%\" % (idx, score[i][idx]))\n"
   ]
  },
  {
   "cell_type": "code",
   "execution_count": null,
   "metadata": {},
   "outputs": [],
   "source": [
    "if __name__ == '__main__':\n",
    "    main()\n"
   ]
  }
 ],
 "metadata": {
  "kernelspec": {
   "display_name": "Python 2",
   "language": "python",
   "name": "python2"
  },
  "language_info": {
   "codemirror_mode": {
    "name": "ipython",
    "version": 2
   },
   "file_extension": ".py",
   "mimetype": "text/x-python",
   "name": "python",
   "nbconvert_exporter": "python",
   "pygments_lexer": "ipython2",
   "version": "2.7.6"
  }
 },
 "nbformat": 4,
 "nbformat_minor": 0
}
